{
 "cells": [
  {
   "cell_type": "code",
   "execution_count": 1,
   "id": "6a38f0f3",
   "metadata": {},
   "outputs": [],
   "source": [
    "import pandas as pd\n"
   ]
  },
  {
   "cell_type": "code",
   "execution_count": 2,
   "id": "9a924a13",
   "metadata": {},
   "outputs": [],
   "source": [
    "import numpy as np\n"
   ]
  },
  {
   "cell_type": "code",
   "execution_count": 4,
   "id": "6879c6a3",
   "metadata": {},
   "outputs": [
    {
     "data": {
      "text/plain": [
       "['a', 'd', 'e', 't']"
      ]
     },
     "execution_count": 4,
     "metadata": {},
     "output_type": "execute_result"
    }
   ],
   "source": [
    "df1 = ['a','d','e','t']\n",
    "df1"
   ]
  },
  {
   "cell_type": "code",
   "execution_count": 119,
   "id": "1fc066a4",
   "metadata": {},
   "outputs": [
    {
     "data": {
      "text/plain": [
       "[1, 2, 3, 4, 5]"
      ]
     },
     "execution_count": 119,
     "metadata": {},
     "output_type": "execute_result"
    }
   ],
   "source": [
    "k = [1,2,3,4,5]\n",
    "k"
   ]
  },
  {
   "cell_type": "code",
   "execution_count": 121,
   "id": "cc54b542",
   "metadata": {},
   "outputs": [],
   "source": [
    "import pandas as pd"
   ]
  },
  {
   "cell_type": "code",
   "execution_count": 122,
   "id": "aae4108a",
   "metadata": {},
   "outputs": [
    {
     "ename": "NameError",
     "evalue": "name 'df1' is not defined",
     "output_type": "error",
     "traceback": [
      "\u001b[1;31m---------------------------------------------------------------------------\u001b[0m",
      "\u001b[1;31mNameError\u001b[0m                                 Traceback (most recent call last)",
      "\u001b[1;32m<ipython-input-122-4d6f323e7c67>\u001b[0m in \u001b[0;36m<module>\u001b[1;34m\u001b[0m\n\u001b[1;32m----> 1\u001b[1;33m \u001b[0mpd\u001b[0m\u001b[1;33m.\u001b[0m\u001b[0mSeries\u001b[0m\u001b[1;33m(\u001b[0m\u001b[0mdf1\u001b[0m\u001b[1;33m,\u001b[0m\u001b[0mk\u001b[0m\u001b[1;33m)\u001b[0m \u001b[1;31m# last object in the () comes first\u001b[0m\u001b[1;33m\u001b[0m\u001b[1;33m\u001b[0m\u001b[0m\n\u001b[0m",
      "\u001b[1;31mNameError\u001b[0m: name 'df1' is not defined"
     ]
    }
   ],
   "source": [
    "pd.Series(df1,k) # last object in the () comes first"
   ]
  },
  {
   "cell_type": "code",
   "execution_count": 8,
   "id": "9e247d2e",
   "metadata": {},
   "outputs": [
    {
     "data": {
      "text/plain": [
       "a    1\n",
       "d    2\n",
       "e    3\n",
       "t    4\n",
       "dtype: int64"
      ]
     },
     "execution_count": 8,
     "metadata": {},
     "output_type": "execute_result"
    }
   ],
   "source": [
    "pd.Series(k,df1)"
   ]
  },
  {
   "cell_type": "code",
   "execution_count": 11,
   "id": "23c3a140",
   "metadata": {},
   "outputs": [
    {
     "data": {
      "text/plain": [
       "array([[0.60557387, 0.27588407, 0.17704272, 0.19690405],\n",
       "       [0.59248274, 0.39779939, 0.94477077, 0.48873187],\n",
       "       [0.87943605, 0.74001793, 0.72021273, 0.54582654],\n",
       "       [0.62511859, 0.29735287, 0.26261834, 0.16256385],\n",
       "       [0.00377525, 0.48163172, 0.286006  , 0.0116941 ]])"
      ]
     },
     "execution_count": 11,
     "metadata": {},
     "output_type": "execute_result"
    }
   ],
   "source": [
    "np.random.rand(5,4)"
   ]
  },
  {
   "cell_type": "code",
   "execution_count": 13,
   "id": "3849be89",
   "metadata": {},
   "outputs": [
    {
     "data": {
      "text/plain": [
       "(0    1\n",
       " 1    2\n",
       " 2    3\n",
       " 3    4\n",
       " dtype: int64,\n",
       " array([[0.86127455, 0.98117039, 0.05446688, 0.05753937],\n",
       "        [0.69588358, 0.42182686, 0.39824905, 0.1535296 ],\n",
       "        [0.91233966, 0.39535282, 0.22336401, 0.29119585],\n",
       "        [0.42424589, 0.74144113, 0.23058918, 0.68851592],\n",
       "        [0.65161884, 0.68407056, 0.81135498, 0.49924915]]))"
      ]
     },
     "execution_count": 13,
     "metadata": {},
     "output_type": "execute_result"
    }
   ],
   "source": [
    "pd.Series(k),np.random.rand(5,4)"
   ]
  },
  {
   "cell_type": "code",
   "execution_count": null,
   "id": "f4a802f4",
   "metadata": {},
   "outputs": [],
   "source": [
    "n = [1,2]"
   ]
  },
  {
   "cell_type": "code",
   "execution_count": 126,
   "id": "d96b101c",
   "metadata": {},
   "outputs": [
    {
     "data": {
      "text/html": [
       "<div>\n",
       "<style scoped>\n",
       "    .dataframe tbody tr th:only-of-type {\n",
       "        vertical-align: middle;\n",
       "    }\n",
       "\n",
       "    .dataframe tbody tr th {\n",
       "        vertical-align: top;\n",
       "    }\n",
       "\n",
       "    .dataframe thead th {\n",
       "        text-align: right;\n",
       "    }\n",
       "</style>\n",
       "<table border=\"1\" class=\"dataframe\">\n",
       "  <thead>\n",
       "    <tr style=\"text-align: right;\">\n",
       "      <th></th>\n",
       "      <th>0</th>\n",
       "      <th>1</th>\n",
       "      <th>2</th>\n",
       "      <th>3</th>\n",
       "    </tr>\n",
       "  </thead>\n",
       "  <tbody>\n",
       "    <tr>\n",
       "      <th>0</th>\n",
       "      <td>0.682574</td>\n",
       "      <td>0.658526</td>\n",
       "      <td>0.003179</td>\n",
       "      <td>0.607646</td>\n",
       "    </tr>\n",
       "    <tr>\n",
       "      <th>1</th>\n",
       "      <td>0.430108</td>\n",
       "      <td>0.823171</td>\n",
       "      <td>0.091775</td>\n",
       "      <td>0.757713</td>\n",
       "    </tr>\n",
       "    <tr>\n",
       "      <th>2</th>\n",
       "      <td>0.024848</td>\n",
       "      <td>0.330310</td>\n",
       "      <td>0.535049</td>\n",
       "      <td>0.006127</td>\n",
       "    </tr>\n",
       "    <tr>\n",
       "      <th>3</th>\n",
       "      <td>0.855929</td>\n",
       "      <td>0.500134</td>\n",
       "      <td>0.347806</td>\n",
       "      <td>0.486723</td>\n",
       "    </tr>\n",
       "    <tr>\n",
       "      <th>4</th>\n",
       "      <td>0.264632</td>\n",
       "      <td>0.624637</td>\n",
       "      <td>0.527361</td>\n",
       "      <td>0.241655</td>\n",
       "    </tr>\n",
       "  </tbody>\n",
       "</table>\n",
       "</div>"
      ],
      "text/plain": [
       "          0         1         2         3\n",
       "0  0.682574  0.658526  0.003179  0.607646\n",
       "1  0.430108  0.823171  0.091775  0.757713\n",
       "2  0.024848  0.330310  0.535049  0.006127\n",
       "3  0.855929  0.500134  0.347806  0.486723\n",
       "4  0.264632  0.624637  0.527361  0.241655"
      ]
     },
     "execution_count": 126,
     "metadata": {},
     "output_type": "execute_result"
    }
   ],
   "source": [
    "c= pd.DataFrame(np.random.rand(5,4))\n",
    "c"
   ]
  },
  {
   "cell_type": "code",
   "execution_count": null,
   "id": "9c484d6a",
   "metadata": {},
   "outputs": [],
   "source": [
    "## PANDAS......pandas are used for alphbetical things and numpy is used for numerical things\n",
    "## pd.series is used for ......one dimensional data\n",
    "## pd.DataFrame is used for ....two dimensional data"
   ]
  },
  {
   "cell_type": "code",
   "execution_count": 9,
   "id": "cf149b5b",
   "metadata": {},
   "outputs": [],
   "source": [
    "import pandas as pd"
   ]
  },
  {
   "cell_type": "code",
   "execution_count": 1,
   "id": "ed5d9416",
   "metadata": {},
   "outputs": [
    {
     "data": {
      "text/plain": [
       "('a', 'r', 'k', 'w')"
      ]
     },
     "execution_count": 1,
     "metadata": {},
     "output_type": "execute_result"
    }
   ],
   "source": [
    "k = ('a','r','k','w')\n",
    "k"
   ]
  },
  {
   "cell_type": "code",
   "execution_count": 12,
   "id": "49d1569c",
   "metadata": {},
   "outputs": [
    {
     "data": {
      "text/plain": [
       "[100, 300, 4, 5]"
      ]
     },
     "execution_count": 12,
     "metadata": {},
     "output_type": "execute_result"
    }
   ],
   "source": [
    "list = [100,300,4,5]\n",
    "list"
   ]
  },
  {
   "cell_type": "code",
   "execution_count": 3,
   "id": "7e9d1498",
   "metadata": {},
   "outputs": [
    {
     "data": {
      "text/plain": [
       "{1: 'k', 2: 'd', 3: 'ksj', 7: 'ram'}"
      ]
     },
     "execution_count": 3,
     "metadata": {},
     "output_type": "execute_result"
    }
   ],
   "source": [
    "dict = {1:'k',2:'d',3:'ksj',7:'ram'}\n",
    "dict"
   ]
  },
  {
   "cell_type": "code",
   "execution_count": 20,
   "id": "a355bb6f",
   "metadata": {},
   "outputs": [],
   "source": [
    "import numpy as np"
   ]
  },
  {
   "cell_type": "code",
   "execution_count": 5,
   "id": "2b614776",
   "metadata": {},
   "outputs": [
    {
     "ename": "NameError",
     "evalue": "name 'np' is not defined",
     "output_type": "error",
     "traceback": [
      "\u001b[1;31m---------------------------------------------------------------------------\u001b[0m",
      "\u001b[1;31mNameError\u001b[0m                                 Traceback (most recent call last)",
      "\u001b[1;32m<ipython-input-5-b842bccb8c67>\u001b[0m in \u001b[0;36m<module>\u001b[1;34m\u001b[0m\n\u001b[1;32m----> 1\u001b[1;33m \u001b[0marr\u001b[0m \u001b[1;33m=\u001b[0m \u001b[0mnp\u001b[0m\u001b[1;33m.\u001b[0m\u001b[0marray\u001b[0m\u001b[1;33m(\u001b[0m\u001b[1;33m[\u001b[0m\u001b[1;36m1\u001b[0m\u001b[1;33m,\u001b[0m\u001b[1;36m2\u001b[0m\u001b[1;33m,\u001b[0m\u001b[1;36m3\u001b[0m\u001b[1;33m,\u001b[0m\u001b[1;36m4\u001b[0m\u001b[1;33m,\u001b[0m\u001b[1;36m5\u001b[0m\u001b[1;33m]\u001b[0m\u001b[1;33m)\u001b[0m\u001b[1;33m\u001b[0m\u001b[1;33m\u001b[0m\u001b[0m\n\u001b[0m\u001b[0;32m      2\u001b[0m \u001b[0marr\u001b[0m\u001b[1;33m\u001b[0m\u001b[1;33m\u001b[0m\u001b[0m\n",
      "\u001b[1;31mNameError\u001b[0m: name 'np' is not defined"
     ]
    }
   ],
   "source": [
    "arr = np.array([1,2,3,4,5])\n",
    "arr"
   ]
  },
  {
   "cell_type": "code",
   "execution_count": 10,
   "id": "51512470",
   "metadata": {},
   "outputs": [
    {
     "data": {
      "text/plain": [
       "0    a\n",
       "1    r\n",
       "2    k\n",
       "3    w\n",
       "dtype: object"
      ]
     },
     "execution_count": 10,
     "metadata": {},
     "output_type": "execute_result"
    }
   ],
   "source": [
    "pd.Series(data=k)   #if u want to represent some names in list we use pandas"
   ]
  },
  {
   "cell_type": "code",
   "execution_count": 13,
   "id": "ded9e3f0",
   "metadata": {},
   "outputs": [
    {
     "ename": "SyntaxError",
     "evalue": "keyword argument repeated (<ipython-input-13-8b8409ea24a5>, line 1)",
     "output_type": "error",
     "traceback": [
      "\u001b[1;36m  File \u001b[1;32m\"<ipython-input-13-8b8409ea24a5>\"\u001b[1;36m, line \u001b[1;32m1\u001b[0m\n\u001b[1;33m    pd.Series(data=k, data = list)\u001b[0m\n\u001b[1;37m                      ^\u001b[0m\n\u001b[1;31mSyntaxError\u001b[0m\u001b[1;31m:\u001b[0m keyword argument repeated\n"
     ]
    }
   ],
   "source": [
    "pd.Series(data=k, data = list) "
   ]
  },
  {
   "cell_type": "code",
   "execution_count": 14,
   "id": "a9633849",
   "metadata": {},
   "outputs": [
    {
     "data": {
      "text/plain": [
       "100    a\n",
       "300    r\n",
       "4      k\n",
       "5      w\n",
       "dtype: object"
      ]
     },
     "execution_count": 14,
     "metadata": {},
     "output_type": "execute_result"
    }
   ],
   "source": [
    "pd.Series(k,list) "
   ]
  },
  {
   "cell_type": "code",
   "execution_count": 15,
   "id": "211a6c7d",
   "metadata": {},
   "outputs": [
    {
     "data": {
      "text/plain": [
       "a    100\n",
       "r    300\n",
       "k      4\n",
       "w      5\n",
       "dtype: int64"
      ]
     },
     "execution_count": 15,
     "metadata": {},
     "output_type": "execute_result"
    }
   ],
   "source": [
    "pd.Series(list,k) "
   ]
  },
  {
   "cell_type": "code",
   "execution_count": 17,
   "id": "5d4d8a52",
   "metadata": {},
   "outputs": [
    {
     "data": {
      "text/plain": [
       "1      k\n",
       "2      d\n",
       "3    ksj\n",
       "7    ram\n",
       "dtype: object"
      ]
     },
     "execution_count": 17,
     "metadata": {},
     "output_type": "execute_result"
    }
   ],
   "source": [
    "pd.Series(dict)"
   ]
  },
  {
   "cell_type": "code",
   "execution_count": 3,
   "id": "a5ea82f7",
   "metadata": {},
   "outputs": [],
   "source": [
    "import numpy as np"
   ]
  },
  {
   "cell_type": "code",
   "execution_count": 29,
   "id": "df0ceb8a",
   "metadata": {},
   "outputs": [
    {
     "data": {
      "text/plain": [
       "array([[0.693284  , 0.82280711, 0.73154511, 0.89326755, 0.28099942],\n",
       "       [0.56614226, 0.87856726, 0.97649366, 0.15802549, 0.21032642],\n",
       "       [0.36422498, 0.55072544, 0.23191649, 0.5221854 , 0.2893455 ],\n",
       "       [0.42194994, 0.27466012, 0.14459481, 0.13945398, 0.6147315 ],\n",
       "       [0.78711134, 0.59522488, 0.63356408, 0.26615875, 0.18664957]])"
      ]
     },
     "execution_count": 29,
     "metadata": {},
     "output_type": "execute_result"
    }
   ],
   "source": [
    "m = np.random.rand(5,5)\n",
    "m"
   ]
  },
  {
   "cell_type": "code",
   "execution_count": 31,
   "id": "c76fef7c",
   "metadata": {},
   "outputs": [],
   "source": [
    "### DATA FRAMES AND INDEXING.......for 2D data analysis"
   ]
  },
  {
   "cell_type": "code",
   "execution_count": 5,
   "id": "099bd900",
   "metadata": {},
   "outputs": [],
   "source": [
    "import pandas as pd"
   ]
  },
  {
   "cell_type": "code",
   "execution_count": 6,
   "id": "f8695d15",
   "metadata": {},
   "outputs": [
    {
     "data": {
      "text/plain": [
       "KOTE        1\n",
       "KAMESH      3\n",
       "RAMESH      6\n",
       "CHAMUDI     8\n",
       "YUK        90\n",
       "dtype: int64"
      ]
     },
     "execution_count": 6,
     "metadata": {},
     "output_type": "execute_result"
    }
   ],
   "source": [
    "K = pd.Series( [1,3,6,8,90],index =['KOTE','KAMESH','RAMESH','CHAMUDI','YUK'])\n",
    "K "
   ]
  },
  {
   "cell_type": "code",
   "execution_count": 7,
   "id": "5dafba20",
   "metadata": {},
   "outputs": [
    {
     "data": {
      "text/plain": [
       "bindu      4\n",
       "yuk        6\n",
       "ramesh     2\n",
       "CHAMUDI    5\n",
       "KAMESH     6\n",
       "dtype: int64"
      ]
     },
     "execution_count": 7,
     "metadata": {},
     "output_type": "execute_result"
    }
   ],
   "source": [
    "n = pd.Series([4,6,2,5,6],index =['bindu','yuk','ramesh','CHAMUDI','KAMESH'])\n",
    "n"
   ]
  },
  {
   "cell_type": "code",
   "execution_count": 9,
   "id": "3e1a002d",
   "metadata": {},
   "outputs": [
    {
     "data": {
      "text/plain": [
       "CHAMUDI    13.0\n",
       "KAMESH      9.0\n",
       "KOTE        NaN\n",
       "RAMESH      NaN\n",
       "YUK         NaN\n",
       "bindu       NaN\n",
       "ramesh      NaN\n",
       "yuk         NaN\n",
       "dtype: float64"
      ]
     },
     "execution_count": 9,
     "metadata": {},
     "output_type": "execute_result"
    }
   ],
   "source": [
    "K+n             ###  K AND n should have a same strings , otherwise its showa NaN"
   ]
  },
  {
   "cell_type": "code",
   "execution_count": 10,
   "id": "81e7b642",
   "metadata": {},
   "outputs": [
    {
     "data": {
      "text/plain": [
       "bindu      4\n",
       "YUK        6\n",
       "RAMESH     2\n",
       "CHAMUDI    5\n",
       "KAMESH     6\n",
       "dtype: int64"
      ]
     },
     "execution_count": 10,
     "metadata": {},
     "output_type": "execute_result"
    }
   ],
   "source": [
    "n1 = pd.Series([4,6,2,5,6],index =['bindu','YUK','RAMESH','CHAMUDI','KAMESH'])  ##### inSeries 'S' should be capital\n",
    "n1\n"
   ]
  },
  {
   "cell_type": "code",
   "execution_count": 11,
   "id": "50c10e48",
   "metadata": {},
   "outputs": [
    {
     "data": {
      "text/plain": [
       "CHAMUDI    13.0\n",
       "KAMESH      9.0\n",
       "KOTE        NaN\n",
       "RAMESH      8.0\n",
       "YUK        96.0\n",
       "bindu       NaN\n",
       "dtype: float64"
      ]
     },
     "execution_count": 11,
     "metadata": {},
     "output_type": "execute_result"
    }
   ],
   "source": [
    "K+n1"
   ]
  },
  {
   "cell_type": "code",
   "execution_count": 13,
   "id": "17137249",
   "metadata": {},
   "outputs": [
    {
     "data": {
      "text/plain": [
       "array([[0.00413285, 0.79220345, 0.6366383 , 0.98459127, 0.6495708 ],\n",
       "       [0.67376969, 0.14977916, 0.84805239, 0.66753403, 0.24075358],\n",
       "       [0.88168236, 0.78382277, 0.96320412, 0.66658113, 0.0388438 ],\n",
       "       [0.60984642, 0.25578336, 0.98077001, 0.08393491, 0.53887569],\n",
       "       [0.4640338 , 0.14299485, 0.01958184, 0.02375479, 0.04678165]])"
      ]
     },
     "execution_count": 13,
     "metadata": {},
     "output_type": "execute_result"
    }
   ],
   "source": [
    "E=np.random.rand(5,5)\n",
    "E"
   ]
  },
  {
   "cell_type": "code",
   "execution_count": 51,
   "id": "d4ddfc72",
   "metadata": {},
   "outputs": [
    {
     "data": {
      "text/html": [
       "<div>\n",
       "<style scoped>\n",
       "    .dataframe tbody tr th:only-of-type {\n",
       "        vertical-align: middle;\n",
       "    }\n",
       "\n",
       "    .dataframe tbody tr th {\n",
       "        vertical-align: top;\n",
       "    }\n",
       "\n",
       "    .dataframe thead th {\n",
       "        text-align: right;\n",
       "    }\n",
       "</style>\n",
       "<table border=\"1\" class=\"dataframe\">\n",
       "  <thead>\n",
       "    <tr style=\"text-align: right;\">\n",
       "      <th></th>\n",
       "      <th>0</th>\n",
       "      <th>1</th>\n",
       "      <th>2</th>\n",
       "      <th>3</th>\n",
       "      <th>4</th>\n",
       "    </tr>\n",
       "  </thead>\n",
       "  <tbody>\n",
       "    <tr>\n",
       "      <th>A</th>\n",
       "      <td>0.004133</td>\n",
       "      <td>0.792203</td>\n",
       "      <td>0.636638</td>\n",
       "      <td>0.984591</td>\n",
       "      <td>0.649571</td>\n",
       "    </tr>\n",
       "    <tr>\n",
       "      <th>B</th>\n",
       "      <td>0.673770</td>\n",
       "      <td>0.149779</td>\n",
       "      <td>0.848052</td>\n",
       "      <td>0.667534</td>\n",
       "      <td>0.240754</td>\n",
       "    </tr>\n",
       "    <tr>\n",
       "      <th>C</th>\n",
       "      <td>0.881682</td>\n",
       "      <td>0.783823</td>\n",
       "      <td>0.963204</td>\n",
       "      <td>0.666581</td>\n",
       "      <td>0.038844</td>\n",
       "    </tr>\n",
       "    <tr>\n",
       "      <th>D</th>\n",
       "      <td>0.609846</td>\n",
       "      <td>0.255783</td>\n",
       "      <td>0.980770</td>\n",
       "      <td>0.083935</td>\n",
       "      <td>0.538876</td>\n",
       "    </tr>\n",
       "    <tr>\n",
       "      <th>E</th>\n",
       "      <td>0.464034</td>\n",
       "      <td>0.142995</td>\n",
       "      <td>0.019582</td>\n",
       "      <td>0.023755</td>\n",
       "      <td>0.046782</td>\n",
       "    </tr>\n",
       "  </tbody>\n",
       "</table>\n",
       "</div>"
      ],
      "text/plain": [
       "          0         1         2         3         4\n",
       "A  0.004133  0.792203  0.636638  0.984591  0.649571\n",
       "B  0.673770  0.149779  0.848052  0.667534  0.240754\n",
       "C  0.881682  0.783823  0.963204  0.666581  0.038844\n",
       "D  0.609846  0.255783  0.980770  0.083935  0.538876\n",
       "E  0.464034  0.142995  0.019582  0.023755  0.046782"
      ]
     },
     "execution_count": 51,
     "metadata": {},
     "output_type": "execute_result"
    }
   ],
   "source": [
    "pd.DataFrame(E,index = ['A','B','C','D','E'])    #####  D & F should be a capital letter\n",
    "                                                "
   ]
  },
  {
   "cell_type": "code",
   "execution_count": 62,
   "id": "d039b8bb",
   "metadata": {},
   "outputs": [
    {
     "data": {
      "text/html": [
       "<div>\n",
       "<style scoped>\n",
       "    .dataframe tbody tr th:only-of-type {\n",
       "        vertical-align: middle;\n",
       "    }\n",
       "\n",
       "    .dataframe tbody tr th {\n",
       "        vertical-align: top;\n",
       "    }\n",
       "\n",
       "    .dataframe thead th {\n",
       "        text-align: right;\n",
       "    }\n",
       "</style>\n",
       "<table border=\"1\" class=\"dataframe\">\n",
       "  <thead>\n",
       "    <tr style=\"text-align: right;\">\n",
       "      <th></th>\n",
       "      <th>kamesh</th>\n",
       "      <th>bharath</th>\n",
       "      <th>ramesh</th>\n",
       "      <th>kotr</th>\n",
       "      <th>hrc</th>\n",
       "    </tr>\n",
       "  </thead>\n",
       "  <tbody>\n",
       "    <tr>\n",
       "      <th>k</th>\n",
       "      <td>0.778317</td>\n",
       "      <td>0.162427</td>\n",
       "      <td>0.799628</td>\n",
       "      <td>0.136700</td>\n",
       "      <td>0.056241</td>\n",
       "    </tr>\n",
       "    <tr>\n",
       "      <th>a</th>\n",
       "      <td>0.802435</td>\n",
       "      <td>0.172769</td>\n",
       "      <td>0.539133</td>\n",
       "      <td>0.191770</td>\n",
       "      <td>0.042565</td>\n",
       "    </tr>\n",
       "    <tr>\n",
       "      <th>m</th>\n",
       "      <td>0.804071</td>\n",
       "      <td>0.565659</td>\n",
       "      <td>0.690875</td>\n",
       "      <td>0.443725</td>\n",
       "      <td>0.832599</td>\n",
       "    </tr>\n",
       "    <tr>\n",
       "      <th>e</th>\n",
       "      <td>0.161172</td>\n",
       "      <td>0.051810</td>\n",
       "      <td>0.150716</td>\n",
       "      <td>0.402030</td>\n",
       "      <td>0.916867</td>\n",
       "    </tr>\n",
       "    <tr>\n",
       "      <th>s</th>\n",
       "      <td>0.308779</td>\n",
       "      <td>0.439457</td>\n",
       "      <td>0.103470</td>\n",
       "      <td>0.688205</td>\n",
       "      <td>0.143212</td>\n",
       "    </tr>\n",
       "  </tbody>\n",
       "</table>\n",
       "</div>"
      ],
      "text/plain": [
       "     kamesh   bharath    ramesh      kotr       hrc\n",
       "k  0.778317  0.162427  0.799628  0.136700  0.056241\n",
       "a  0.802435  0.172769  0.539133  0.191770  0.042565\n",
       "m  0.804071  0.565659  0.690875  0.443725  0.832599\n",
       "e  0.161172  0.051810  0.150716  0.402030  0.916867\n",
       "s  0.308779  0.439457  0.103470  0.688205  0.143212"
      ]
     },
     "execution_count": 62,
     "metadata": {},
     "output_type": "execute_result"
    }
   ],
   "source": [
    "w = pd.DataFrame(np.random.rand(5,5), index = 'k a m e s'.split(), columns = 'kamesh bharath ramesh kotr hrc'.split())\n",
    "w\n"
   ]
  },
  {
   "cell_type": "code",
   "execution_count": 58,
   "id": "5bbb44da",
   "metadata": {},
   "outputs": [
    {
     "data": {
      "text/html": [
       "<div>\n",
       "<style scoped>\n",
       "    .dataframe tbody tr th:only-of-type {\n",
       "        vertical-align: middle;\n",
       "    }\n",
       "\n",
       "    .dataframe tbody tr th {\n",
       "        vertical-align: top;\n",
       "    }\n",
       "\n",
       "    .dataframe thead th {\n",
       "        text-align: right;\n",
       "    }\n",
       "</style>\n",
       "<table border=\"1\" class=\"dataframe\">\n",
       "  <thead>\n",
       "    <tr style=\"text-align: right;\">\n",
       "      <th></th>\n",
       "      <th>kamesh</th>\n",
       "      <th>bharath</th>\n",
       "      <th>ramesh</th>\n",
       "      <th>kotr</th>\n",
       "      <th>hrc</th>\n",
       "    </tr>\n",
       "  </thead>\n",
       "  <tbody>\n",
       "    <tr>\n",
       "      <th>0</th>\n",
       "      <td>0.472307</td>\n",
       "      <td>0.171472</td>\n",
       "      <td>0.497218</td>\n",
       "      <td>0.121213</td>\n",
       "      <td>0.872011</td>\n",
       "    </tr>\n",
       "    <tr>\n",
       "      <th>1</th>\n",
       "      <td>0.297609</td>\n",
       "      <td>0.125568</td>\n",
       "      <td>0.995788</td>\n",
       "      <td>0.668995</td>\n",
       "      <td>0.446087</td>\n",
       "    </tr>\n",
       "    <tr>\n",
       "      <th>2</th>\n",
       "      <td>0.705761</td>\n",
       "      <td>0.895009</td>\n",
       "      <td>0.544367</td>\n",
       "      <td>0.599451</td>\n",
       "      <td>0.058576</td>\n",
       "    </tr>\n",
       "    <tr>\n",
       "      <th>3</th>\n",
       "      <td>0.900675</td>\n",
       "      <td>0.200738</td>\n",
       "      <td>0.393049</td>\n",
       "      <td>0.091451</td>\n",
       "      <td>0.614917</td>\n",
       "    </tr>\n",
       "    <tr>\n",
       "      <th>4</th>\n",
       "      <td>0.708682</td>\n",
       "      <td>0.444777</td>\n",
       "      <td>0.688492</td>\n",
       "      <td>0.306168</td>\n",
       "      <td>0.091188</td>\n",
       "    </tr>\n",
       "  </tbody>\n",
       "</table>\n",
       "</div>"
      ],
      "text/plain": [
       "     kamesh   bharath    ramesh      kotr       hrc\n",
       "0  0.472307  0.171472  0.497218  0.121213  0.872011\n",
       "1  0.297609  0.125568  0.995788  0.668995  0.446087\n",
       "2  0.705761  0.895009  0.544367  0.599451  0.058576\n",
       "3  0.900675  0.200738  0.393049  0.091451  0.614917\n",
       "4  0.708682  0.444777  0.688492  0.306168  0.091188"
      ]
     },
     "execution_count": 58,
     "metadata": {},
     "output_type": "execute_result"
    }
   ],
   "source": [
    "w = pd.DataFrame(np.random.rand(5,5), columns = 'kamesh bharath ramesh kotr hrc'.split())\n",
    "w"
   ]
  },
  {
   "cell_type": "code",
   "execution_count": 127,
   "id": "753a65eb",
   "metadata": {},
   "outputs": [
    {
     "data": {
      "text/html": [
       "<div>\n",
       "<style scoped>\n",
       "    .dataframe tbody tr th:only-of-type {\n",
       "        vertical-align: middle;\n",
       "    }\n",
       "\n",
       "    .dataframe tbody tr th {\n",
       "        vertical-align: top;\n",
       "    }\n",
       "\n",
       "    .dataframe thead th {\n",
       "        text-align: right;\n",
       "    }\n",
       "</style>\n",
       "<table border=\"1\" class=\"dataframe\">\n",
       "  <thead>\n",
       "    <tr style=\"text-align: right;\">\n",
       "      <th></th>\n",
       "      <th>1</th>\n",
       "      <th>2</th>\n",
       "      <th>3</th>\n",
       "      <th>4</th>\n",
       "      <th>5</th>\n",
       "    </tr>\n",
       "  </thead>\n",
       "  <tbody>\n",
       "    <tr>\n",
       "      <th>2</th>\n",
       "      <td>0.315424</td>\n",
       "      <td>0.982785</td>\n",
       "      <td>0.664988</td>\n",
       "      <td>0.464565</td>\n",
       "      <td>0.699273</td>\n",
       "    </tr>\n",
       "    <tr>\n",
       "      <th>3</th>\n",
       "      <td>0.596162</td>\n",
       "      <td>0.418794</td>\n",
       "      <td>0.242497</td>\n",
       "      <td>0.171273</td>\n",
       "      <td>0.372592</td>\n",
       "    </tr>\n",
       "    <tr>\n",
       "      <th>4</th>\n",
       "      <td>0.726986</td>\n",
       "      <td>0.780341</td>\n",
       "      <td>0.436201</td>\n",
       "      <td>0.148971</td>\n",
       "      <td>0.165533</td>\n",
       "    </tr>\n",
       "    <tr>\n",
       "      <th>5</th>\n",
       "      <td>0.803558</td>\n",
       "      <td>0.679339</td>\n",
       "      <td>0.849833</td>\n",
       "      <td>0.530879</td>\n",
       "      <td>0.114915</td>\n",
       "    </tr>\n",
       "    <tr>\n",
       "      <th>6</th>\n",
       "      <td>0.677862</td>\n",
       "      <td>0.215031</td>\n",
       "      <td>0.545408</td>\n",
       "      <td>0.815145</td>\n",
       "      <td>0.827028</td>\n",
       "    </tr>\n",
       "  </tbody>\n",
       "</table>\n",
       "</div>"
      ],
      "text/plain": [
       "          1         2         3         4         5\n",
       "2  0.315424  0.982785  0.664988  0.464565  0.699273\n",
       "3  0.596162  0.418794  0.242497  0.171273  0.372592\n",
       "4  0.726986  0.780341  0.436201  0.148971  0.165533\n",
       "5  0.803558  0.679339  0.849833  0.530879  0.114915\n",
       "6  0.677862  0.215031  0.545408  0.815145  0.827028"
      ]
     },
     "execution_count": 127,
     "metadata": {},
     "output_type": "execute_result"
    }
   ],
   "source": [
    "w = pd.DataFrame(np.random.rand(5,5),index = [2,3,4,5,6] ,columns = [1,2,3,4,5])\n",
    "w"
   ]
  },
  {
   "cell_type": "code",
   "execution_count": 130,
   "id": "393cb8c9",
   "metadata": {},
   "outputs": [
    {
     "data": {
      "text/html": [
       "<div>\n",
       "<style scoped>\n",
       "    .dataframe tbody tr th:only-of-type {\n",
       "        vertical-align: middle;\n",
       "    }\n",
       "\n",
       "    .dataframe tbody tr th {\n",
       "        vertical-align: top;\n",
       "    }\n",
       "\n",
       "    .dataframe thead th {\n",
       "        text-align: right;\n",
       "    }\n",
       "</style>\n",
       "<table border=\"1\" class=\"dataframe\">\n",
       "  <thead>\n",
       "    <tr style=\"text-align: right;\">\n",
       "      <th></th>\n",
       "      <th>kamesh</th>\n",
       "      <th>bharath</th>\n",
       "      <th>ramesh</th>\n",
       "      <th>kotr</th>\n",
       "      <th>hrc</th>\n",
       "    </tr>\n",
       "  </thead>\n",
       "  <tbody>\n",
       "    <tr>\n",
       "      <th>2</th>\n",
       "      <td>0.366439</td>\n",
       "      <td>0.764385</td>\n",
       "      <td>0.216006</td>\n",
       "      <td>0.190968</td>\n",
       "      <td>0.147707</td>\n",
       "    </tr>\n",
       "    <tr>\n",
       "      <th>3</th>\n",
       "      <td>0.390747</td>\n",
       "      <td>0.148487</td>\n",
       "      <td>0.415599</td>\n",
       "      <td>0.947320</td>\n",
       "      <td>0.843754</td>\n",
       "    </tr>\n",
       "    <tr>\n",
       "      <th>4</th>\n",
       "      <td>0.552110</td>\n",
       "      <td>0.273116</td>\n",
       "      <td>0.555436</td>\n",
       "      <td>0.417561</td>\n",
       "      <td>0.217072</td>\n",
       "    </tr>\n",
       "    <tr>\n",
       "      <th>5</th>\n",
       "      <td>0.432439</td>\n",
       "      <td>0.665266</td>\n",
       "      <td>0.395193</td>\n",
       "      <td>0.294669</td>\n",
       "      <td>0.151375</td>\n",
       "    </tr>\n",
       "    <tr>\n",
       "      <th>6</th>\n",
       "      <td>0.218308</td>\n",
       "      <td>0.218372</td>\n",
       "      <td>0.409637</td>\n",
       "      <td>0.297743</td>\n",
       "      <td>0.225917</td>\n",
       "    </tr>\n",
       "  </tbody>\n",
       "</table>\n",
       "</div>"
      ],
      "text/plain": [
       "     kamesh   bharath    ramesh      kotr       hrc\n",
       "2  0.366439  0.764385  0.216006  0.190968  0.147707\n",
       "3  0.390747  0.148487  0.415599  0.947320  0.843754\n",
       "4  0.552110  0.273116  0.555436  0.417561  0.217072\n",
       "5  0.432439  0.665266  0.395193  0.294669  0.151375\n",
       "6  0.218308  0.218372  0.409637  0.297743  0.225917"
      ]
     },
     "execution_count": 130,
     "metadata": {},
     "output_type": "execute_result"
    }
   ],
   "source": [
    "w = pd.DataFrame(np.random.rand(5,5),index = [2,3,4,5,6] ,columns ='kamesh bharath ramesh kotr hrc'.split())  ## column names changed to names\n",
    "w"
   ]
  },
  {
   "cell_type": "code",
   "execution_count": 65,
   "id": "fe9bc6be",
   "metadata": {},
   "outputs": [
    {
     "data": {
      "text/plain": [
       "2    0.437184\n",
       "3    0.135099\n",
       "4    0.625546\n",
       "5    0.629043\n",
       "6    0.424740\n",
       "Name: kamesh, dtype: float64"
      ]
     },
     "execution_count": 65,
     "metadata": {},
     "output_type": "execute_result"
    }
   ],
   "source": [
    "w['kamesh']"
   ]
  },
  {
   "cell_type": "code",
   "execution_count": 68,
   "id": "b20f3d66",
   "metadata": {},
   "outputs": [
    {
     "data": {
      "text/html": [
       "<div>\n",
       "<style scoped>\n",
       "    .dataframe tbody tr th:only-of-type {\n",
       "        vertical-align: middle;\n",
       "    }\n",
       "\n",
       "    .dataframe tbody tr th {\n",
       "        vertical-align: top;\n",
       "    }\n",
       "\n",
       "    .dataframe thead th {\n",
       "        text-align: right;\n",
       "    }\n",
       "</style>\n",
       "<table border=\"1\" class=\"dataframe\">\n",
       "  <thead>\n",
       "    <tr style=\"text-align: right;\">\n",
       "      <th></th>\n",
       "      <th>kamesh</th>\n",
       "      <th>bharath</th>\n",
       "      <th>ramesh</th>\n",
       "      <th>kotr</th>\n",
       "      <th>hrc</th>\n",
       "      <th>bindusai</th>\n",
       "    </tr>\n",
       "  </thead>\n",
       "  <tbody>\n",
       "    <tr>\n",
       "      <th>2</th>\n",
       "      <td>0.437184</td>\n",
       "      <td>0.527609</td>\n",
       "      <td>0.168406</td>\n",
       "      <td>0.897365</td>\n",
       "      <td>0.295030</td>\n",
       "      <td>0.964793</td>\n",
       "    </tr>\n",
       "    <tr>\n",
       "      <th>3</th>\n",
       "      <td>0.135099</td>\n",
       "      <td>0.448169</td>\n",
       "      <td>0.559726</td>\n",
       "      <td>0.062742</td>\n",
       "      <td>0.685982</td>\n",
       "      <td>0.583267</td>\n",
       "    </tr>\n",
       "    <tr>\n",
       "      <th>4</th>\n",
       "      <td>0.625546</td>\n",
       "      <td>0.399815</td>\n",
       "      <td>0.814859</td>\n",
       "      <td>0.852831</td>\n",
       "      <td>0.900571</td>\n",
       "      <td>1.025361</td>\n",
       "    </tr>\n",
       "    <tr>\n",
       "      <th>5</th>\n",
       "      <td>0.629043</td>\n",
       "      <td>0.912978</td>\n",
       "      <td>0.612228</td>\n",
       "      <td>0.205247</td>\n",
       "      <td>0.333998</td>\n",
       "      <td>1.542021</td>\n",
       "    </tr>\n",
       "    <tr>\n",
       "      <th>6</th>\n",
       "      <td>0.424740</td>\n",
       "      <td>0.506945</td>\n",
       "      <td>0.264530</td>\n",
       "      <td>0.390685</td>\n",
       "      <td>0.979554</td>\n",
       "      <td>0.931685</td>\n",
       "    </tr>\n",
       "  </tbody>\n",
       "</table>\n",
       "</div>"
      ],
      "text/plain": [
       "     kamesh   bharath    ramesh      kotr       hrc  bindusai\n",
       "2  0.437184  0.527609  0.168406  0.897365  0.295030  0.964793\n",
       "3  0.135099  0.448169  0.559726  0.062742  0.685982  0.583267\n",
       "4  0.625546  0.399815  0.814859  0.852831  0.900571  1.025361\n",
       "5  0.629043  0.912978  0.612228  0.205247  0.333998  1.542021\n",
       "6  0.424740  0.506945  0.264530  0.390685  0.979554  0.931685"
      ]
     },
     "execution_count": 68,
     "metadata": {},
     "output_type": "execute_result"
    }
   ],
   "source": [
    "w['bindusai'] = w['kamesh'] + w['bharath']     ## column operations(add of extra column)\n",
    "w\n"
   ]
  },
  {
   "cell_type": "code",
   "execution_count": 71,
   "id": "df57e03f",
   "metadata": {},
   "outputs": [
    {
     "data": {
      "text/html": [
       "<div>\n",
       "<style scoped>\n",
       "    .dataframe tbody tr th:only-of-type {\n",
       "        vertical-align: middle;\n",
       "    }\n",
       "\n",
       "    .dataframe tbody tr th {\n",
       "        vertical-align: top;\n",
       "    }\n",
       "\n",
       "    .dataframe thead th {\n",
       "        text-align: right;\n",
       "    }\n",
       "</style>\n",
       "<table border=\"1\" class=\"dataframe\">\n",
       "  <thead>\n",
       "    <tr style=\"text-align: right;\">\n",
       "      <th></th>\n",
       "      <th>kamesh</th>\n",
       "      <th>bharath</th>\n",
       "      <th>ramesh</th>\n",
       "      <th>kotr</th>\n",
       "      <th>hrc</th>\n",
       "      <th>bindusai</th>\n",
       "      <th>100</th>\n",
       "    </tr>\n",
       "  </thead>\n",
       "  <tbody>\n",
       "    <tr>\n",
       "      <th>2</th>\n",
       "      <td>0.437184</td>\n",
       "      <td>0.527609</td>\n",
       "      <td>0.168406</td>\n",
       "      <td>0.897365</td>\n",
       "      <td>0.295030</td>\n",
       "      <td>0.964793</td>\n",
       "      <td>0.964793</td>\n",
       "    </tr>\n",
       "    <tr>\n",
       "      <th>3</th>\n",
       "      <td>0.135099</td>\n",
       "      <td>0.448169</td>\n",
       "      <td>0.559726</td>\n",
       "      <td>0.062742</td>\n",
       "      <td>0.685982</td>\n",
       "      <td>0.583267</td>\n",
       "      <td>0.583267</td>\n",
       "    </tr>\n",
       "    <tr>\n",
       "      <th>4</th>\n",
       "      <td>0.625546</td>\n",
       "      <td>0.399815</td>\n",
       "      <td>0.814859</td>\n",
       "      <td>0.852831</td>\n",
       "      <td>0.900571</td>\n",
       "      <td>1.025361</td>\n",
       "      <td>1.025361</td>\n",
       "    </tr>\n",
       "    <tr>\n",
       "      <th>5</th>\n",
       "      <td>0.629043</td>\n",
       "      <td>0.912978</td>\n",
       "      <td>0.612228</td>\n",
       "      <td>0.205247</td>\n",
       "      <td>0.333998</td>\n",
       "      <td>1.542021</td>\n",
       "      <td>1.542021</td>\n",
       "    </tr>\n",
       "    <tr>\n",
       "      <th>6</th>\n",
       "      <td>0.424740</td>\n",
       "      <td>0.506945</td>\n",
       "      <td>0.264530</td>\n",
       "      <td>0.390685</td>\n",
       "      <td>0.979554</td>\n",
       "      <td>0.931685</td>\n",
       "      <td>0.931685</td>\n",
       "    </tr>\n",
       "  </tbody>\n",
       "</table>\n",
       "</div>"
      ],
      "text/plain": [
       "     kamesh   bharath    ramesh      kotr       hrc  bindusai       100\n",
       "2  0.437184  0.527609  0.168406  0.897365  0.295030  0.964793  0.964793\n",
       "3  0.135099  0.448169  0.559726  0.062742  0.685982  0.583267  0.583267\n",
       "4  0.625546  0.399815  0.814859  0.852831  0.900571  1.025361  1.025361\n",
       "5  0.629043  0.912978  0.612228  0.205247  0.333998  1.542021  1.542021\n",
       "6  0.424740  0.506945  0.264530  0.390685  0.979554  0.931685  0.931685"
      ]
     },
     "execution_count": 71,
     "metadata": {},
     "output_type": "execute_result"
    }
   ],
   "source": [
    "w['100'] = w['kamesh'] + w['bharath']     ## column operations(add of extra column)\n",
    "w"
   ]
  },
  {
   "cell_type": "code",
   "execution_count": 84,
   "id": "ec791b15",
   "metadata": {
    "scrolled": false
   },
   "outputs": [
    {
     "data": {
      "text/html": [
       "<div>\n",
       "<style scoped>\n",
       "    .dataframe tbody tr th:only-of-type {\n",
       "        vertical-align: middle;\n",
       "    }\n",
       "\n",
       "    .dataframe tbody tr th {\n",
       "        vertical-align: top;\n",
       "    }\n",
       "\n",
       "    .dataframe thead th {\n",
       "        text-align: right;\n",
       "    }\n",
       "</style>\n",
       "<table border=\"1\" class=\"dataframe\">\n",
       "  <thead>\n",
       "    <tr style=\"text-align: right;\">\n",
       "      <th></th>\n",
       "      <th>kamesh</th>\n",
       "      <th>bharath</th>\n",
       "      <th>ramesh</th>\n",
       "      <th>kotr</th>\n",
       "      <th>hrc</th>\n",
       "      <th>bindusai</th>\n",
       "    </tr>\n",
       "  </thead>\n",
       "  <tbody>\n",
       "    <tr>\n",
       "      <th>2</th>\n",
       "      <td>0.437184</td>\n",
       "      <td>0.527609</td>\n",
       "      <td>0.168406</td>\n",
       "      <td>0.897365</td>\n",
       "      <td>0.295030</td>\n",
       "      <td>0.964793</td>\n",
       "    </tr>\n",
       "    <tr>\n",
       "      <th>3</th>\n",
       "      <td>0.135099</td>\n",
       "      <td>0.448169</td>\n",
       "      <td>0.559726</td>\n",
       "      <td>0.062742</td>\n",
       "      <td>0.685982</td>\n",
       "      <td>0.583267</td>\n",
       "    </tr>\n",
       "    <tr>\n",
       "      <th>4</th>\n",
       "      <td>0.625546</td>\n",
       "      <td>0.399815</td>\n",
       "      <td>0.814859</td>\n",
       "      <td>0.852831</td>\n",
       "      <td>0.900571</td>\n",
       "      <td>1.025361</td>\n",
       "    </tr>\n",
       "    <tr>\n",
       "      <th>5</th>\n",
       "      <td>0.629043</td>\n",
       "      <td>0.912978</td>\n",
       "      <td>0.612228</td>\n",
       "      <td>0.205247</td>\n",
       "      <td>0.333998</td>\n",
       "      <td>1.542021</td>\n",
       "    </tr>\n",
       "    <tr>\n",
       "      <th>6</th>\n",
       "      <td>0.424740</td>\n",
       "      <td>0.506945</td>\n",
       "      <td>0.264530</td>\n",
       "      <td>0.390685</td>\n",
       "      <td>0.979554</td>\n",
       "      <td>0.931685</td>\n",
       "    </tr>\n",
       "  </tbody>\n",
       "</table>\n",
       "</div>"
      ],
      "text/plain": [
       "     kamesh   bharath    ramesh      kotr       hrc  bindusai\n",
       "2  0.437184  0.527609  0.168406  0.897365  0.295030  0.964793\n",
       "3  0.135099  0.448169  0.559726  0.062742  0.685982  0.583267\n",
       "4  0.625546  0.399815  0.814859  0.852831  0.900571  1.025361\n",
       "5  0.629043  0.912978  0.612228  0.205247  0.333998  1.542021\n",
       "6  0.424740  0.506945  0.264530  0.390685  0.979554  0.931685"
      ]
     },
     "execution_count": 84,
     "metadata": {},
     "output_type": "execute_result"
    }
   ],
   "source": [
    "w.drop('100', axis = 1)  # droping column '100'\n"
   ]
  },
  {
   "cell_type": "code",
   "execution_count": 83,
   "id": "712b6981",
   "metadata": {},
   "outputs": [
    {
     "data": {
      "text/html": [
       "<div>\n",
       "<style scoped>\n",
       "    .dataframe tbody tr th:only-of-type {\n",
       "        vertical-align: middle;\n",
       "    }\n",
       "\n",
       "    .dataframe tbody tr th {\n",
       "        vertical-align: top;\n",
       "    }\n",
       "\n",
       "    .dataframe thead th {\n",
       "        text-align: right;\n",
       "    }\n",
       "</style>\n",
       "<table border=\"1\" class=\"dataframe\">\n",
       "  <thead>\n",
       "    <tr style=\"text-align: right;\">\n",
       "      <th></th>\n",
       "      <th>kamesh</th>\n",
       "      <th>bharath</th>\n",
       "      <th>ramesh</th>\n",
       "      <th>kotr</th>\n",
       "      <th>hrc</th>\n",
       "      <th>bindusai</th>\n",
       "      <th>100</th>\n",
       "    </tr>\n",
       "  </thead>\n",
       "  <tbody>\n",
       "    <tr>\n",
       "      <th>2</th>\n",
       "      <td>0.437184</td>\n",
       "      <td>0.527609</td>\n",
       "      <td>0.168406</td>\n",
       "      <td>0.897365</td>\n",
       "      <td>0.295030</td>\n",
       "      <td>0.964793</td>\n",
       "      <td>0.964793</td>\n",
       "    </tr>\n",
       "    <tr>\n",
       "      <th>3</th>\n",
       "      <td>0.135099</td>\n",
       "      <td>0.448169</td>\n",
       "      <td>0.559726</td>\n",
       "      <td>0.062742</td>\n",
       "      <td>0.685982</td>\n",
       "      <td>0.583267</td>\n",
       "      <td>0.583267</td>\n",
       "    </tr>\n",
       "    <tr>\n",
       "      <th>4</th>\n",
       "      <td>0.625546</td>\n",
       "      <td>0.399815</td>\n",
       "      <td>0.814859</td>\n",
       "      <td>0.852831</td>\n",
       "      <td>0.900571</td>\n",
       "      <td>1.025361</td>\n",
       "      <td>1.025361</td>\n",
       "    </tr>\n",
       "    <tr>\n",
       "      <th>5</th>\n",
       "      <td>0.629043</td>\n",
       "      <td>0.912978</td>\n",
       "      <td>0.612228</td>\n",
       "      <td>0.205247</td>\n",
       "      <td>0.333998</td>\n",
       "      <td>1.542021</td>\n",
       "      <td>1.542021</td>\n",
       "    </tr>\n",
       "  </tbody>\n",
       "</table>\n",
       "</div>"
      ],
      "text/plain": [
       "     kamesh   bharath    ramesh      kotr       hrc  bindusai       100\n",
       "2  0.437184  0.527609  0.168406  0.897365  0.295030  0.964793  0.964793\n",
       "3  0.135099  0.448169  0.559726  0.062742  0.685982  0.583267  0.583267\n",
       "4  0.625546  0.399815  0.814859  0.852831  0.900571  1.025361  1.025361\n",
       "5  0.629043  0.912978  0.612228  0.205247  0.333998  1.542021  1.542021"
      ]
     },
     "execution_count": 83,
     "metadata": {},
     "output_type": "execute_result"
    }
   ],
   "source": [
    "w.drop(6)   ## dropping row '6'"
   ]
  },
  {
   "cell_type": "code",
   "execution_count": 87,
   "id": "d91bf798",
   "metadata": {},
   "outputs": [],
   "source": [
    "import pandas as pd"
   ]
  },
  {
   "cell_type": "code",
   "execution_count": 97,
   "id": "289d096d",
   "metadata": {},
   "outputs": [
    {
     "data": {
      "text/plain": [
       "['kamesh', 'bharath', 'rahul', 'thilak']"
      ]
     },
     "execution_count": 97,
     "metadata": {},
     "output_type": "execute_result"
    }
   ],
   "source": [
    "list = ['kamesh','bharath','rahul','thilak']\n",
    "list"
   ]
  },
  {
   "cell_type": "code",
   "execution_count": 105,
   "id": "13478a84",
   "metadata": {},
   "outputs": [
    {
     "data": {
      "text/html": [
       "<div>\n",
       "<style scoped>\n",
       "    .dataframe tbody tr th:only-of-type {\n",
       "        vertical-align: middle;\n",
       "    }\n",
       "\n",
       "    .dataframe tbody tr th {\n",
       "        vertical-align: top;\n",
       "    }\n",
       "\n",
       "    .dataframe thead th {\n",
       "        text-align: right;\n",
       "    }\n",
       "</style>\n",
       "<table border=\"1\" class=\"dataframe\">\n",
       "  <thead>\n",
       "    <tr style=\"text-align: right;\">\n",
       "      <th></th>\n",
       "      <th>name</th>\n",
       "      <th>mat</th>\n",
       "      <th>phy</th>\n",
       "      <th>chem</th>\n",
       "    </tr>\n",
       "  </thead>\n",
       "  <tbody>\n",
       "    <tr>\n",
       "      <th>0</th>\n",
       "      <td>kamesh</td>\n",
       "      <td>90</td>\n",
       "      <td>23</td>\n",
       "      <td>33</td>\n",
       "    </tr>\n",
       "    <tr>\n",
       "      <th>1</th>\n",
       "      <td>bharath</td>\n",
       "      <td>23</td>\n",
       "      <td>89</td>\n",
       "      <td>34</td>\n",
       "    </tr>\n",
       "    <tr>\n",
       "      <th>2</th>\n",
       "      <td>rahul</td>\n",
       "      <td>57</td>\n",
       "      <td>66</td>\n",
       "      <td>99</td>\n",
       "    </tr>\n",
       "    <tr>\n",
       "      <th>3</th>\n",
       "      <td>thilak</td>\n",
       "      <td>56</td>\n",
       "      <td>88</td>\n",
       "      <td>100</td>\n",
       "    </tr>\n",
       "  </tbody>\n",
       "</table>\n",
       "</div>"
      ],
      "text/plain": [
       "      name  mat  phy  chem\n",
       "0   kamesh   90   23    33\n",
       "1  bharath   23   89    34\n",
       "2    rahul   57   66    99\n",
       "3   thilak   56   88   100"
      ]
     },
     "execution_count": 105,
     "metadata": {},
     "output_type": "execute_result"
    }
   ],
   "source": [
    "df =pd.DataFrame({'name': list,'mat':[90,23,57,56],'phy' : [23,89,66,88],'chem' : [33,34,99,100], })\n",
    "df"
   ]
  },
  {
   "cell_type": "code",
   "execution_count": 106,
   "id": "115c9e2d",
   "metadata": {},
   "outputs": [
    {
     "data": {
      "text/html": [
       "<div>\n",
       "<style scoped>\n",
       "    .dataframe tbody tr th:only-of-type {\n",
       "        vertical-align: middle;\n",
       "    }\n",
       "\n",
       "    .dataframe tbody tr th {\n",
       "        vertical-align: top;\n",
       "    }\n",
       "\n",
       "    .dataframe thead th {\n",
       "        text-align: right;\n",
       "    }\n",
       "</style>\n",
       "<table border=\"1\" class=\"dataframe\">\n",
       "  <thead>\n",
       "    <tr style=\"text-align: right;\">\n",
       "      <th></th>\n",
       "      <th>name</th>\n",
       "      <th>mat</th>\n",
       "      <th>phy</th>\n",
       "      <th>chem</th>\n",
       "    </tr>\n",
       "  </thead>\n",
       "  <tbody>\n",
       "    <tr>\n",
       "      <th>40</th>\n",
       "      <td>kamesh</td>\n",
       "      <td>90</td>\n",
       "      <td>23</td>\n",
       "      <td>33</td>\n",
       "    </tr>\n",
       "    <tr>\n",
       "      <th>50</th>\n",
       "      <td>bharath</td>\n",
       "      <td>23</td>\n",
       "      <td>89</td>\n",
       "      <td>34</td>\n",
       "    </tr>\n",
       "    <tr>\n",
       "      <th>56</th>\n",
       "      <td>rahul</td>\n",
       "      <td>57</td>\n",
       "      <td>66</td>\n",
       "      <td>99</td>\n",
       "    </tr>\n",
       "    <tr>\n",
       "      <th>78</th>\n",
       "      <td>thilak</td>\n",
       "      <td>56</td>\n",
       "      <td>88</td>\n",
       "      <td>100</td>\n",
       "    </tr>\n",
       "  </tbody>\n",
       "</table>\n",
       "</div>"
      ],
      "text/plain": [
       "       name  mat  phy  chem\n",
       "40   kamesh   90   23    33\n",
       "50  bharath   23   89    34\n",
       "56    rahul   57   66    99\n",
       "78   thilak   56   88   100"
      ]
     },
     "execution_count": 106,
     "metadata": {},
     "output_type": "execute_result"
    }
   ],
   "source": [
    "df =pd.DataFrame({'name': list,'mat':[90,23,57,56],'phy' : [23,89,66,88],'chem' : [33,34,99,100], },index = [40,50,56,78])\n",
    "df"
   ]
  },
  {
   "cell_type": "code",
   "execution_count": 110,
   "id": "4bc3657e",
   "metadata": {},
   "outputs": [
    {
     "data": {
      "text/html": [
       "<div>\n",
       "<style scoped>\n",
       "    .dataframe tbody tr th:only-of-type {\n",
       "        vertical-align: middle;\n",
       "    }\n",
       "\n",
       "    .dataframe tbody tr th {\n",
       "        vertical-align: top;\n",
       "    }\n",
       "\n",
       "    .dataframe thead th {\n",
       "        text-align: right;\n",
       "    }\n",
       "</style>\n",
       "<table border=\"1\" class=\"dataframe\">\n",
       "  <thead>\n",
       "    <tr style=\"text-align: right;\">\n",
       "      <th></th>\n",
       "      <th>name</th>\n",
       "      <th>mat</th>\n",
       "      <th>phy</th>\n",
       "      <th>chem</th>\n",
       "      <th>total</th>\n",
       "    </tr>\n",
       "  </thead>\n",
       "  <tbody>\n",
       "    <tr>\n",
       "      <th>40</th>\n",
       "      <td>kamesh</td>\n",
       "      <td>90</td>\n",
       "      <td>23</td>\n",
       "      <td>33</td>\n",
       "      <td>146</td>\n",
       "    </tr>\n",
       "    <tr>\n",
       "      <th>50</th>\n",
       "      <td>bharath</td>\n",
       "      <td>23</td>\n",
       "      <td>89</td>\n",
       "      <td>34</td>\n",
       "      <td>146</td>\n",
       "    </tr>\n",
       "    <tr>\n",
       "      <th>56</th>\n",
       "      <td>rahul</td>\n",
       "      <td>57</td>\n",
       "      <td>66</td>\n",
       "      <td>99</td>\n",
       "      <td>222</td>\n",
       "    </tr>\n",
       "    <tr>\n",
       "      <th>78</th>\n",
       "      <td>thilak</td>\n",
       "      <td>56</td>\n",
       "      <td>88</td>\n",
       "      <td>100</td>\n",
       "      <td>244</td>\n",
       "    </tr>\n",
       "  </tbody>\n",
       "</table>\n",
       "</div>"
      ],
      "text/plain": [
       "       name  mat  phy  chem  total\n",
       "40   kamesh   90   23    33    146\n",
       "50  bharath   23   89    34    146\n",
       "56    rahul   57   66    99    222\n",
       "78   thilak   56   88   100    244"
      ]
     },
     "execution_count": 110,
     "metadata": {},
     "output_type": "execute_result"
    }
   ],
   "source": [
    "df[\"total\"] = df[\"mat\"]+df[\"phy\"]+df[\"chem\"]\n",
    "df"
   ]
  },
  {
   "cell_type": "code",
   "execution_count": 114,
   "id": "4ce56539",
   "metadata": {},
   "outputs": [
    {
     "data": {
      "text/html": [
       "<div>\n",
       "<style scoped>\n",
       "    .dataframe tbody tr th:only-of-type {\n",
       "        vertical-align: middle;\n",
       "    }\n",
       "\n",
       "    .dataframe tbody tr th {\n",
       "        vertical-align: top;\n",
       "    }\n",
       "\n",
       "    .dataframe thead th {\n",
       "        text-align: right;\n",
       "    }\n",
       "</style>\n",
       "<table border=\"1\" class=\"dataframe\">\n",
       "  <thead>\n",
       "    <tr style=\"text-align: right;\">\n",
       "      <th></th>\n",
       "      <th>name</th>\n",
       "      <th>mat</th>\n",
       "      <th>phy</th>\n",
       "      <th>chem</th>\n",
       "      <th>total</th>\n",
       "      <th>percentage</th>\n",
       "    </tr>\n",
       "  </thead>\n",
       "  <tbody>\n",
       "    <tr>\n",
       "      <th>40</th>\n",
       "      <td>kamesh</td>\n",
       "      <td>90</td>\n",
       "      <td>23</td>\n",
       "      <td>33</td>\n",
       "      <td>146</td>\n",
       "      <td>48.666667</td>\n",
       "    </tr>\n",
       "    <tr>\n",
       "      <th>50</th>\n",
       "      <td>bharath</td>\n",
       "      <td>23</td>\n",
       "      <td>89</td>\n",
       "      <td>34</td>\n",
       "      <td>146</td>\n",
       "      <td>48.666667</td>\n",
       "    </tr>\n",
       "    <tr>\n",
       "      <th>56</th>\n",
       "      <td>rahul</td>\n",
       "      <td>57</td>\n",
       "      <td>66</td>\n",
       "      <td>99</td>\n",
       "      <td>222</td>\n",
       "      <td>74.000000</td>\n",
       "    </tr>\n",
       "    <tr>\n",
       "      <th>78</th>\n",
       "      <td>thilak</td>\n",
       "      <td>56</td>\n",
       "      <td>88</td>\n",
       "      <td>100</td>\n",
       "      <td>244</td>\n",
       "      <td>81.333333</td>\n",
       "    </tr>\n",
       "  </tbody>\n",
       "</table>\n",
       "</div>"
      ],
      "text/plain": [
       "       name  mat  phy  chem  total  percentage\n",
       "40   kamesh   90   23    33    146   48.666667\n",
       "50  bharath   23   89    34    146   48.666667\n",
       "56    rahul   57   66    99    222   74.000000\n",
       "78   thilak   56   88   100    244   81.333333"
      ]
     },
     "execution_count": 114,
     "metadata": {},
     "output_type": "execute_result"
    }
   ],
   "source": [
    "df['percentage'] = df['total']/300 *100\n",
    "df"
   ]
  },
  {
   "cell_type": "code",
   "execution_count": null,
   "id": "1ec5e16a",
   "metadata": {},
   "outputs": [],
   "source": [
    "##### assesment"
   ]
  },
  {
   "cell_type": "code",
   "execution_count": 132,
   "id": "514d6e7d",
   "metadata": {},
   "outputs": [],
   "source": [
    "import numpy as np"
   ]
  },
  {
   "cell_type": "code",
   "execution_count": 138,
   "id": "cea464d6",
   "metadata": {
    "scrolled": true
   },
   "outputs": [
    {
     "data": {
      "text/plain": [
       "array([0, 0, 0, 0, 0, 0, 0, 0, 0, 0])"
      ]
     },
     "execution_count": 138,
     "metadata": {},
     "output_type": "execute_result"
    }
   ],
   "source": [
    "np.zeros(10 ,dtype = int)"
   ]
  },
  {
   "cell_type": "code",
   "execution_count": 163,
   "id": "5b112917",
   "metadata": {},
   "outputs": [
    {
     "data": {
      "text/plain": [
       "array([0, 0, 0, 0, 1, 0, 0, 0, 0, 0])"
      ]
     },
     "execution_count": 163,
     "metadata": {},
     "output_type": "execute_result"
    }
   ],
   "source": [
    "c=np.zeros(10 ,dtype = int)\n",
    "c[4]=1\n",
    "c"
   ]
  },
  {
   "cell_type": "code",
   "execution_count": null,
   "id": "9fa68357",
   "metadata": {},
   "outputs": [],
   "source": [
    "import numpy as np"
   ]
  },
  {
   "cell_type": "code",
   "execution_count": 144,
   "id": "6117a1c6",
   "metadata": {},
   "outputs": [
    {
     "ename": "AttributeError",
     "evalue": "module 'numpy' has no attribute 'arrange'",
     "output_type": "error",
     "traceback": [
      "\u001b[1;31m---------------------------------------------------------------------------\u001b[0m",
      "\u001b[1;31mAttributeError\u001b[0m                            Traceback (most recent call last)",
      "\u001b[1;32m<ipython-input-144-6a6205b65de8>\u001b[0m in \u001b[0;36m<module>\u001b[1;34m\u001b[0m\n\u001b[1;32m----> 1\u001b[1;33m \u001b[0marr\u001b[0m \u001b[1;33m=\u001b[0m \u001b[0mnp\u001b[0m\u001b[1;33m.\u001b[0m\u001b[0marrange\u001b[0m\u001b[1;33m(\u001b[0m\u001b[1;36m10\u001b[0m\u001b[1;33m,\u001b[0m\u001b[1;36m45\u001b[0m\u001b[1;33m)\u001b[0m\u001b[1;33m\u001b[0m\u001b[1;33m\u001b[0m\u001b[0m\n\u001b[0m\u001b[0;32m      2\u001b[0m \u001b[0marr\u001b[0m\u001b[1;33m\u001b[0m\u001b[1;33m\u001b[0m\u001b[0m\n",
      "\u001b[1;32m~\\anaconda3\\lib\\site-packages\\numpy\\__init__.py\u001b[0m in \u001b[0;36m__getattr__\u001b[1;34m(attr)\u001b[0m\n\u001b[0;32m    301\u001b[0m                 \u001b[1;32mreturn\u001b[0m \u001b[0mTester\u001b[0m\u001b[1;33m\u001b[0m\u001b[1;33m\u001b[0m\u001b[0m\n\u001b[0;32m    302\u001b[0m \u001b[1;33m\u001b[0m\u001b[0m\n\u001b[1;32m--> 303\u001b[1;33m             raise AttributeError(\"module {!r} has no attribute \"\n\u001b[0m\u001b[0;32m    304\u001b[0m                                  \"{!r}\".format(__name__, attr))\n\u001b[0;32m    305\u001b[0m \u001b[1;33m\u001b[0m\u001b[0m\n",
      "\u001b[1;31mAttributeError\u001b[0m: module 'numpy' has no attribute 'arrange'"
     ]
    }
   ],
   "source": [
    "arr = np.arrange(10,45)            ### 'arrange' is coorect to.....'arange'\n",
    "arr"
   ]
  },
  {
   "cell_type": "code",
   "execution_count": 150,
   "id": "bb6d4aee",
   "metadata": {},
   "outputs": [
    {
     "data": {
      "text/plain": [
       "array([10, 11, 12, 13, 14, 15, 16, 17, 18, 19, 20, 21, 22, 23, 24, 25, 26,\n",
       "       27, 28, 29, 30, 31, 32, 33, 34, 35, 36, 37, 38, 39, 40, 41, 42, 43,\n",
       "       44, 45, 46, 47, 48, 49, 50, 51, 52, 53, 54, 55, 56, 57, 58, 59, 60,\n",
       "       61, 62, 63, 64])"
      ]
     },
     "execution_count": 150,
     "metadata": {},
     "output_type": "execute_result"
    }
   ],
   "source": [
    "arr = np.arange(10,65)\n",
    "arr"
   ]
  },
  {
   "cell_type": "code",
   "execution_count": 161,
   "id": "b0399c66",
   "metadata": {},
   "outputs": [
    {
     "data": {
      "text/plain": [
       "array([65, 64, 63, 62, 61, 60, 59, 58, 57, 56, 55, 54, 53, 52, 51, 50, 49,\n",
       "       48, 47, 46, 45, 44, 43, 42, 41, 40, 39, 38, 37, 36, 35, 34, 33, 32,\n",
       "       31, 30, 29, 28, 27, 26, 25, 24, 23, 22, 21, 20, 19, 18, 17, 16, 15,\n",
       "       14, 13, 12, 11, 10])"
      ]
     },
     "execution_count": 161,
     "metadata": {},
     "output_type": "execute_result"
    }
   ],
   "source": [
    "arr =np.arange(65,9,-1)\n",
    "arr"
   ]
  },
  {
   "cell_type": "code",
   "execution_count": 162,
   "id": "d3162c8a",
   "metadata": {},
   "outputs": [
    {
     "data": {
      "text/plain": [
       "array([10, 11, 12, 13, 14, 15, 16, 17, 18, 19, 20, 21, 22, 23, 24, 25, 26,\n",
       "       27, 28, 29, 30, 31, 32, 33, 34, 35, 36, 37, 38, 39, 40, 41, 42, 43,\n",
       "       44, 45, 46, 47, 48, 49, 50, 51, 52, 53, 54, 55, 56, 57, 58, 59, 60,\n",
       "       61, 62, 63, 64, 65])"
      ]
     },
     "execution_count": 162,
     "metadata": {},
     "output_type": "execute_result"
    }
   ],
   "source": [
    "arr[ ::-1]"
   ]
  },
  {
   "cell_type": "code",
   "execution_count": 156,
   "id": "83d72c17",
   "metadata": {},
   "outputs": [
    {
     "data": {
      "text/plain": [
       "array([[0, 1, 2],\n",
       "       [3, 4, 5],\n",
       "       [6, 7, 8]])"
      ]
     },
     "execution_count": 156,
     "metadata": {},
     "output_type": "execute_result"
    }
   ],
   "source": [
    "arr=np.arange(0,9).reshape(3,3)\n",
    "arr"
   ]
  },
  {
   "cell_type": "code",
   "execution_count": null,
   "id": "f2b8e5ac",
   "metadata": {},
   "outputs": [],
   "source": []
  }
 ],
 "metadata": {
  "kernelspec": {
   "display_name": "Python 3",
   "language": "python",
   "name": "python3"
  },
  "language_info": {
   "codemirror_mode": {
    "name": "ipython",
    "version": 3
   },
   "file_extension": ".py",
   "mimetype": "text/x-python",
   "name": "python",
   "nbconvert_exporter": "python",
   "pygments_lexer": "ipython3",
   "version": "3.8.8"
  }
 },
 "nbformat": 4,
 "nbformat_minor": 5
}
